{
  "cells": [
    {
      "cell_type": "markdown",
      "id": "69c7a43b",
      "metadata": {},
      "source": [
        "# Coleta e Limpeza do Dataset VALE3.SA para LSTM\n",
        "Este notebook baixa os dados com yFinance, salva o bruto e gera um arquivo limpo contendo apenas `Date` e `Close`, ordenado por data."
      ]
    },
    {
      "cell_type": "code",
      "execution_count": 2,
      "id": "b9a828a5",
      "metadata": {},
      "outputs": [],
      "source": [
        "# Imports necessários\n",
        "import yfinance as yf\n",
        "import pandas as pd\n",
        "import os"
      ]
    },
    {
      "cell_type": "code",
      "execution_count": 3,
      "id": "c2400e13",
      "metadata": {},
      "outputs": [
        {
          "name": "stdout",
          "output_type": "stream",
          "text": [
            "Salvará arquivos em: j:\\Projetos\\FASE4-ML\\data\n"
          ]
        }
      ],
      "source": [
        "# Definições de parâmetros\n",
        "ticker = 'VALE3.SA'\n",
        "start_date = '2018-01-01'\n",
        "end_date = '2024-07-20'\n",
        "\n",
        "# Caminhos\n",
        "notebook_dir = os.getcwd()\n",
        "base_dir = os.path.abspath(os.path.join(notebook_dir, '..', 'data'))\n",
        "os.makedirs(base_dir, exist_ok=True)\n",
        "\n",
        "# Segurança ao deletar: remove só arquivos .csv\n",
        "for filename in os.listdir(base_dir):\n",
        "    file_path = os.path.join(base_dir, filename)\n",
        "    if os.path.isfile(file_path) and filename.endswith('.csv'):\n",
        "        os.remove(file_path)\n",
        "\n",
        "raw_file = os.path.join(base_dir, f'{ticker}.csv')\n",
        "clean_file = os.path.join(base_dir, 'dataset.csv')\n",
        "\n",
        "# (Opcional) Debug\n",
        "print(f\"Salvará arquivos em: {base_dir}\")\n"
      ]
    },
    {
      "cell_type": "code",
      "execution_count": 4,
      "id": "5f95e8b6",
      "metadata": {},
      "outputs": [
        {
          "name": "stdout",
          "output_type": "stream",
          "text": [
            "Baixando dados de VALE3.SA...\n",
            "YF.download() has changed argument auto_adjust default to True\n"
          ]
        },
        {
          "name": "stderr",
          "output_type": "stream",
          "text": [
            "[*********************100%***********************]  1 of 1 completed"
          ]
        },
        {
          "name": "stdout",
          "output_type": "stream",
          "text": [
            "Arquivo bruto salvo em: j:\\Projetos\\FASE4-ML\\data\\VALE3.SA.csv\n",
            "Price        Date      Close       High        Low       Open    Volume\n",
            "Ticker              VALE3.SA   VALE3.SA   VALE3.SA   VALE3.SA  VALE3.SA\n",
            "0      2018-01-02  23.603912  23.615228  22.879726  22.879726  14156500\n",
            "1      2018-01-03  23.462471  23.694437  23.366289  23.666148  12744200\n",
            "2      2018-01-04  23.558649  23.971661  23.490757  23.654831  18433000\n",
            "3      2018-01-05  23.926401  23.926401  23.371947  23.519046  15251300\n",
            "4      2018-01-08  24.458227  24.458227  23.988639  23.988639  14542800\n"
          ]
        },
        {
          "name": "stderr",
          "output_type": "stream",
          "text": [
            "\n"
          ]
        }
      ],
      "source": [
        "# Download e salvamento\n",
        "print(f\"Baixando dados de {ticker}...\")\n",
        "df = yf.download(ticker, start=start_date, end=end_date)\n",
        "\n",
        "# Verificação de sucesso\n",
        "if df.empty:\n",
        "    raise ValueError(f\"Nenhum dado foi baixado para o ticker {ticker}.\")\n",
        "\n",
        "df.reset_index(inplace=True)\n",
        "\n",
        "if 'Date' not in df.columns:\n",
        "    raise RuntimeError(\"A coluna 'Date' não foi encontrada após reset_index.\")\n",
        "\n",
        "df.to_csv(raw_file, index=False)\n",
        "print(f\"Arquivo bruto salvo em: {raw_file}\")\n",
        "print(df.head())\n"
      ]
    },
    {
      "cell_type": "code",
      "execution_count": 5,
      "id": "36d19d24",
      "metadata": {},
      "outputs": [
        {
          "name": "stdout",
          "output_type": "stream",
          "text": [
            "Arquivo limpo salvo em: j:\\Projetos\\FASE4-ML\\data\\dataset.csv\n"
          ]
        }
      ],
      "source": [
        "df = pd.read_csv(raw_file)\n",
        "\n",
        "# Seleciona colunas e limpa datas inválidas\n",
        "df = df[['Date', 'Close']]\n",
        "df = df[pd.to_datetime(df['Date'], errors='coerce').notna()]\n",
        "df['Date'] = pd.to_datetime(df['Date'])\n",
        "\n",
        "# Remove linhas com Close vazio\n",
        "df = df[df['Close'].notna()]\n",
        "\n",
        "# Ordena e reseta índice\n",
        "df = df.sort_values('Date').reset_index(drop=True)\n",
        "\n",
        "# Verificação final\n",
        "if df.empty:\n",
        "    raise ValueError(\"O DataFrame final está vazio após limpeza.\")\n",
        "\n",
        "# Salva e remove bruto\n",
        "df.to_csv(clean_file, index=False)\n",
        "print(f\"Arquivo limpo salvo em: {clean_file}\")\n",
        "os.remove(raw_file)\n"
      ]
    }
  ],
  "metadata": {
    "kernelspec": {
      "display_name": ".venv",
      "language": "python",
      "name": "python3"
    },
    "language_info": {
      "codemirror_mode": {
        "name": "ipython",
        "version": 3
      },
      "file_extension": ".py",
      "mimetype": "text/x-python",
      "name": "python",
      "nbconvert_exporter": "python",
      "pygments_lexer": "ipython3",
      "version": "3.10.0"
    }
  },
  "nbformat": 4,
  "nbformat_minor": 5
}
