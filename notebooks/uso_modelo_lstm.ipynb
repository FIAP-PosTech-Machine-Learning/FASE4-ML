{
 "cells": [
  {
   "cell_type": "markdown",
   "id": "0b347155",
   "metadata": {},
   "source": [
    "Estrutura do Notebook:\n",
    "Importação de Bibliotecas\n",
    "Carregamento e Pré-processamento dos Dados\n",
    "Criação do Modelo LSTM\n",
    "Treinamento do Modelo\n",
    "Avaliação do Modelo\n",
    "Visualização dos Resultados"
   ]
  },
  {
   "cell_type": "code",
   "execution_count": 1,
   "id": "cc2fb927",
   "metadata": {},
   "outputs": [],
   "source": [
    "# Importando bibliotecas necessárias\n",
    "import numpy as np\n",
    "import pandas as pd\n",
    "from keras.models import load_model\n",
    "from sklearn.preprocessing import MinMaxScaler\n",
    "import matplotlib.pyplot as plt\n"
   ]
  },
  {
   "cell_type": "code",
   "execution_count": null,
   "id": "3b68000f",
   "metadata": {},
   "outputs": [],
   "source": [
    "\n",
    "# Carregando o modelo salvo\n",
    "model = load_model('../models/lstm_model.h5')"
   ]
  }
 ],
 "metadata": {
  "kernelspec": {
   "display_name": "venv",
   "language": "python",
   "name": "venv"
  },
  "language_info": {
   "codemirror_mode": {
    "name": "ipython",
    "version": 3
   },
   "file_extension": ".py",
   "mimetype": "text/x-python",
   "name": "python",
   "nbconvert_exporter": "python",
   "pygments_lexer": "ipython3",
   "version": "3.9.13"
  }
 },
 "nbformat": 4,
 "nbformat_minor": 5
}
